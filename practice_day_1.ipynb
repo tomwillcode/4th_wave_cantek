{
 "cells": [
  {
   "cell_type": "code",
   "execution_count": 1,
   "id": "822206a9",
   "metadata": {},
   "outputs": [
    {
     "name": "stdout",
     "output_type": "stream",
     "text": [
      "hello world\n",
      "hello world\n"
     ]
    }
   ],
   "source": [
    "print('hello world')"
   ]
  },
  {
   "cell_type": "code",
   "execution_count": 2,
   "id": "fc1c8d7c",
   "metadata": {},
   "outputs": [
    {
     "data": {
      "text/plain": [
       "10"
      ]
     },
     "execution_count": 2,
     "metadata": {},
     "output_type": "execute_result"
    }
   ],
   "source": [
    "3+7"
   ]
  },
  {
   "cell_type": "code",
   "execution_count": 3,
   "id": "48053e1d",
   "metadata": {},
   "outputs": [
    {
     "data": {
      "text/plain": [
       "324234"
      ]
     },
     "execution_count": 3,
     "metadata": {},
     "output_type": "execute_result"
    }
   ],
   "source": [
    "324234"
   ]
  },
  {
   "cell_type": "code",
   "execution_count": 4,
   "id": "79059a9c",
   "metadata": {},
   "outputs": [
    {
     "data": {
      "text/plain": [
       "'dsfdsf'"
      ]
     },
     "execution_count": 4,
     "metadata": {},
     "output_type": "execute_result"
    }
   ],
   "source": [
    "'dsfdsf'"
   ]
  },
  {
   "cell_type": "code",
   "execution_count": 5,
   "id": "c3d0b3df",
   "metadata": {},
   "outputs": [
    {
     "data": {
      "text/plain": [
       "37.1783"
      ]
     },
     "execution_count": 5,
     "metadata": {},
     "output_type": "execute_result"
    }
   ],
   "source": [
    "37.1783"
   ]
  },
  {
   "cell_type": "code",
   "execution_count": 6,
   "id": "5de96bf4",
   "metadata": {},
   "outputs": [],
   "source": [
    "string1='sdfsdf'"
   ]
  },
  {
   "cell_type": "code",
   "execution_count": 7,
   "id": "f3b5090c",
   "metadata": {},
   "outputs": [],
   "source": [
    "string2 = 'yutyufgjghj'"
   ]
  },
  {
   "cell_type": "code",
   "execution_count": 8,
   "id": "45b4a88c",
   "metadata": {},
   "outputs": [
    {
     "data": {
      "text/plain": [
       "'sdfsdf'"
      ]
     },
     "execution_count": 8,
     "metadata": {},
     "output_type": "execute_result"
    }
   ],
   "source": [
    "string1"
   ]
  },
  {
   "cell_type": "code",
   "execution_count": 9,
   "id": "92f58de8",
   "metadata": {},
   "outputs": [
    {
     "data": {
      "text/plain": [
       "'sdfsdfyutyufgjghj'"
      ]
     },
     "execution_count": 9,
     "metadata": {},
     "output_type": "execute_result"
    }
   ],
   "source": [
    "string1+string2"
   ]
  },
  {
   "cell_type": "code",
   "execution_count": 10,
   "id": "cbf99a2e",
   "metadata": {},
   "outputs": [
    {
     "data": {
      "text/plain": [
       "'yutyufgjghjsdfsdf'"
      ]
     },
     "execution_count": 10,
     "metadata": {},
     "output_type": "execute_result"
    }
   ],
   "source": [
    "string2+string1"
   ]
  },
  {
   "cell_type": "code",
   "execution_count": 11,
   "id": "bf01a08b",
   "metadata": {},
   "outputs": [],
   "source": [
    "int1 = 7"
   ]
  },
  {
   "cell_type": "code",
   "execution_count": 12,
   "id": "5447fa2c",
   "metadata": {},
   "outputs": [],
   "source": [
    "int2 = 2"
   ]
  },
  {
   "cell_type": "code",
   "execution_count": 13,
   "id": "35e721c4",
   "metadata": {},
   "outputs": [
    {
     "data": {
      "text/plain": [
       "9"
      ]
     },
     "execution_count": 13,
     "metadata": {},
     "output_type": "execute_result"
    }
   ],
   "source": [
    "int1+int2"
   ]
  },
  {
   "cell_type": "code",
   "execution_count": 14,
   "id": "60781143",
   "metadata": {},
   "outputs": [
    {
     "data": {
      "text/plain": [
       "14"
      ]
     },
     "execution_count": 14,
     "metadata": {},
     "output_type": "execute_result"
    }
   ],
   "source": [
    "int1*int2"
   ]
  },
  {
   "cell_type": "code",
   "execution_count": 15,
   "id": "34621fe9",
   "metadata": {},
   "outputs": [
    {
     "data": {
      "text/plain": [
       "3.5"
      ]
     },
     "execution_count": 15,
     "metadata": {},
     "output_type": "execute_result"
    }
   ],
   "source": [
    "int1/int2"
   ]
  },
  {
   "cell_type": "code",
   "execution_count": 16,
   "id": "6faa8d7b",
   "metadata": {},
   "outputs": [
    {
     "data": {
      "text/plain": [
       "1"
      ]
     },
     "execution_count": 16,
     "metadata": {},
     "output_type": "execute_result"
    }
   ],
   "source": [
    "int1%int2"
   ]
  },
  {
   "cell_type": "code",
   "execution_count": 17,
   "id": "2bc62dcb",
   "metadata": {},
   "outputs": [
    {
     "data": {
      "text/plain": [
       "1"
      ]
     },
     "execution_count": 17,
     "metadata": {},
     "output_type": "execute_result"
    }
   ],
   "source": [
    "5%2"
   ]
  },
  {
   "cell_type": "code",
   "execution_count": 18,
   "id": "a97fc75f",
   "metadata": {},
   "outputs": [
    {
     "data": {
      "text/plain": [
       "2"
      ]
     },
     "execution_count": 18,
     "metadata": {},
     "output_type": "execute_result"
    }
   ],
   "source": [
    "5%3"
   ]
  },
  {
   "cell_type": "code",
   "execution_count": 19,
   "id": "e066a77f",
   "metadata": {},
   "outputs": [],
   "source": [
    "float1 = 7.0"
   ]
  },
  {
   "cell_type": "code",
   "execution_count": 20,
   "id": "305aa8e5",
   "metadata": {},
   "outputs": [],
   "source": [
    "float2 =5.17853"
   ]
  },
  {
   "cell_type": "code",
   "execution_count": 21,
   "id": "9339b983",
   "metadata": {},
   "outputs": [
    {
     "data": {
      "text/plain": [
       "36.24971"
      ]
     },
     "execution_count": 21,
     "metadata": {},
     "output_type": "execute_result"
    }
   ],
   "source": [
    "float1*float2"
   ]
  },
  {
   "cell_type": "code",
   "execution_count": 22,
   "id": "61196115",
   "metadata": {},
   "outputs": [
    {
     "data": {
      "text/plain": [
       "12.17853"
      ]
     },
     "execution_count": 22,
     "metadata": {},
     "output_type": "execute_result"
    }
   ],
   "source": [
    "float1+float2"
   ]
  },
  {
   "cell_type": "code",
   "execution_count": 35,
   "id": "4af4b0be",
   "metadata": {},
   "outputs": [
    {
     "data": {
      "text/plain": [
       "64.39999999999999"
      ]
     },
     "execution_count": 35,
     "metadata": {},
     "output_type": "execute_result"
    }
   ],
   "source": [
    "float1*int1"
   ]
  },
  {
   "cell_type": "code",
   "execution_count": 24,
   "id": "794c2a12",
   "metadata": {},
   "outputs": [
    {
     "data": {
      "text/plain": [
       "float"
      ]
     },
     "execution_count": 24,
     "metadata": {},
     "output_type": "execute_result"
    }
   ],
   "source": [
    "type(float1*int1)"
   ]
  },
  {
   "cell_type": "code",
   "execution_count": 25,
   "id": "e2c6555c",
   "metadata": {},
   "outputs": [
    {
     "data": {
      "text/plain": [
       "str"
      ]
     },
     "execution_count": 25,
     "metadata": {},
     "output_type": "execute_result"
    }
   ],
   "source": [
    "type(string1)"
   ]
  },
  {
   "cell_type": "code",
   "execution_count": 26,
   "id": "652479ad",
   "metadata": {},
   "outputs": [],
   "source": [
    "my_list = [3,5.7,'afasf',0]"
   ]
  },
  {
   "cell_type": "code",
   "execution_count": 27,
   "id": "c1451a31",
   "metadata": {},
   "outputs": [
    {
     "data": {
      "text/plain": [
       "3"
      ]
     },
     "execution_count": 27,
     "metadata": {},
     "output_type": "execute_result"
    }
   ],
   "source": [
    "my_list[0]"
   ]
  },
  {
   "cell_type": "code",
   "execution_count": 28,
   "id": "affd9236",
   "metadata": {},
   "outputs": [
    {
     "data": {
      "text/plain": [
       "'afasf'"
      ]
     },
     "execution_count": 28,
     "metadata": {},
     "output_type": "execute_result"
    }
   ],
   "source": [
    "my_list[2]"
   ]
  },
  {
   "cell_type": "code",
   "execution_count": 29,
   "id": "5b1812a6",
   "metadata": {},
   "outputs": [
    {
     "data": {
      "text/plain": [
       "'y'"
      ]
     },
     "execution_count": 29,
     "metadata": {},
     "output_type": "execute_result"
    }
   ],
   "source": [
    "string2[0]"
   ]
  },
  {
   "cell_type": "code",
   "execution_count": 30,
   "id": "3bee3128",
   "metadata": {},
   "outputs": [
    {
     "data": {
      "text/plain": [
       "'yutyufgjgh'"
      ]
     },
     "execution_count": 30,
     "metadata": {},
     "output_type": "execute_result"
    }
   ],
   "source": [
    "string2[0:10]"
   ]
  },
  {
   "cell_type": "code",
   "execution_count": 31,
   "id": "f04ed1df",
   "metadata": {},
   "outputs": [
    {
     "data": {
      "text/plain": [
       "'yutyufgjghj'"
      ]
     },
     "execution_count": 31,
     "metadata": {},
     "output_type": "execute_result"
    }
   ],
   "source": [
    "string2[0:17]"
   ]
  },
  {
   "cell_type": "code",
   "execution_count": 34,
   "id": "76ace4da",
   "metadata": {},
   "outputs": [
    {
     "data": {
      "text/plain": [
       "9.2"
      ]
     },
     "execution_count": 34,
     "metadata": {},
     "output_type": "execute_result"
    }
   ],
   "source": [
    "float1"
   ]
  },
  {
   "cell_type": "code",
   "execution_count": 33,
   "id": "cf872181",
   "metadata": {},
   "outputs": [],
   "source": [
    "float1 = 9.2"
   ]
  },
  {
   "cell_type": "code",
   "execution_count": 36,
   "id": "6ddadc54",
   "metadata": {},
   "outputs": [],
   "source": [
    "my_bool = True\n",
    "my_bool1 = False"
   ]
  },
  {
   "cell_type": "code",
   "execution_count": 38,
   "id": "9f040dd3",
   "metadata": {},
   "outputs": [],
   "source": [
    "if my_bool1:\n",
    "    print('hello')"
   ]
  },
  {
   "cell_type": "code",
   "execution_count": 39,
   "id": "12581046",
   "metadata": {},
   "outputs": [],
   "source": [
    "my_bool3 = (5==6)"
   ]
  },
  {
   "cell_type": "code",
   "execution_count": 41,
   "id": "ecd40327",
   "metadata": {},
   "outputs": [
    {
     "data": {
      "text/plain": [
       "True"
      ]
     },
     "execution_count": 41,
     "metadata": {},
     "output_type": "execute_result"
    }
   ],
   "source": [
    "my_bool3==my_bool1"
   ]
  },
  {
   "cell_type": "code",
   "execution_count": 42,
   "id": "c1a06cde",
   "metadata": {},
   "outputs": [
    {
     "data": {
      "text/plain": [
       "False"
      ]
     },
     "execution_count": 42,
     "metadata": {},
     "output_type": "execute_result"
    }
   ],
   "source": [
    "my_bool3"
   ]
  },
  {
   "cell_type": "code",
   "execution_count": 43,
   "id": "57a8a7f6",
   "metadata": {},
   "outputs": [],
   "source": [
    "my_bool3=my_bool"
   ]
  },
  {
   "cell_type": "code",
   "execution_count": 44,
   "id": "c0837571",
   "metadata": {},
   "outputs": [
    {
     "data": {
      "text/plain": [
       "True"
      ]
     },
     "execution_count": 44,
     "metadata": {},
     "output_type": "execute_result"
    }
   ],
   "source": [
    "my_bool3"
   ]
  },
  {
   "cell_type": "code",
   "execution_count": 46,
   "id": "2396c138",
   "metadata": {},
   "outputs": [
    {
     "data": {
      "text/plain": [
       "7"
      ]
     },
     "execution_count": 46,
     "metadata": {},
     "output_type": "execute_result"
    }
   ],
   "source": [
    "my_bool*7"
   ]
  },
  {
   "cell_type": "code",
   "execution_count": 47,
   "id": "8433e2dc",
   "metadata": {},
   "outputs": [
    {
     "data": {
      "text/plain": [
       "3"
      ]
     },
     "execution_count": 47,
     "metadata": {},
     "output_type": "execute_result"
    }
   ],
   "source": [
    "True+True+True"
   ]
  },
  {
   "cell_type": "code",
   "execution_count": 48,
   "id": "dc90bcf7",
   "metadata": {},
   "outputs": [
    {
     "data": {
      "text/plain": [
       "0"
      ]
     },
     "execution_count": 48,
     "metadata": {},
     "output_type": "execute_result"
    }
   ],
   "source": [
    "False*True"
   ]
  },
  {
   "cell_type": "code",
   "execution_count": 49,
   "id": "a388cdd1",
   "metadata": {},
   "outputs": [
    {
     "data": {
      "text/plain": [
       "0.3333333333333333"
      ]
     },
     "execution_count": 49,
     "metadata": {},
     "output_type": "execute_result"
    }
   ],
   "source": [
    "True/3"
   ]
  },
  {
   "cell_type": "code",
   "execution_count": 50,
   "id": "517e8e54",
   "metadata": {},
   "outputs": [
    {
     "data": {
      "text/plain": [
       "4"
      ]
     },
     "execution_count": 50,
     "metadata": {},
     "output_type": "execute_result"
    }
   ],
   "source": [
    "2**2"
   ]
  },
  {
   "cell_type": "code",
   "execution_count": 51,
   "id": "abad1630",
   "metadata": {},
   "outputs": [
    {
     "data": {
      "text/plain": [
       "27"
      ]
     },
     "execution_count": 51,
     "metadata": {},
     "output_type": "execute_result"
    }
   ],
   "source": [
    "3**3"
   ]
  },
  {
   "cell_type": "code",
   "execution_count": 52,
   "id": "77fd50c0",
   "metadata": {},
   "outputs": [
    {
     "data": {
      "text/plain": [
       "16"
      ]
     },
     "execution_count": 52,
     "metadata": {},
     "output_type": "execute_result"
    }
   ],
   "source": [
    "4**2"
   ]
  },
  {
   "cell_type": "code",
   "execution_count": 53,
   "id": "b62010a4",
   "metadata": {},
   "outputs": [
    {
     "data": {
      "text/plain": [
       "True"
      ]
     },
     "execution_count": 53,
     "metadata": {},
     "output_type": "execute_result"
    }
   ],
   "source": [
    "6 != 7"
   ]
  },
  {
   "cell_type": "code",
   "execution_count": 54,
   "id": "2f319fec",
   "metadata": {},
   "outputs": [
    {
     "data": {
      "text/plain": [
       "False"
      ]
     },
     "execution_count": 54,
     "metadata": {},
     "output_type": "execute_result"
    }
   ],
   "source": [
    "6 != 6"
   ]
  },
  {
   "cell_type": "code",
   "execution_count": 55,
   "id": "c2efba54",
   "metadata": {},
   "outputs": [],
   "source": [
    "my_list = [3, 7, 'sdf',5.77, True, 10]"
   ]
  },
  {
   "cell_type": "code",
   "execution_count": 56,
   "id": "c9177d89",
   "metadata": {},
   "outputs": [
    {
     "data": {
      "text/plain": [
       "3"
      ]
     },
     "execution_count": 56,
     "metadata": {},
     "output_type": "execute_result"
    }
   ],
   "source": [
    "my_list[0]"
   ]
  },
  {
   "cell_type": "code",
   "execution_count": 57,
   "id": "2d2dee30",
   "metadata": {},
   "outputs": [
    {
     "data": {
      "text/plain": [
       "7"
      ]
     },
     "execution_count": 57,
     "metadata": {},
     "output_type": "execute_result"
    }
   ],
   "source": [
    "my_list[1]"
   ]
  },
  {
   "cell_type": "code",
   "execution_count": 58,
   "id": "b70a74ee",
   "metadata": {},
   "outputs": [
    {
     "data": {
      "text/plain": [
       "True"
      ]
     },
     "execution_count": 58,
     "metadata": {},
     "output_type": "execute_result"
    }
   ],
   "source": [
    "my_list[4]"
   ]
  },
  {
   "cell_type": "code",
   "execution_count": 61,
   "id": "190fc98d",
   "metadata": {},
   "outputs": [
    {
     "data": {
      "text/plain": [
       "['sdf', 5.77, True, 10]"
      ]
     },
     "execution_count": 61,
     "metadata": {},
     "output_type": "execute_result"
    }
   ],
   "source": [
    "my_list[2:100]"
   ]
  },
  {
   "cell_type": "code",
   "execution_count": 60,
   "id": "795da13b",
   "metadata": {},
   "outputs": [
    {
     "data": {
      "text/plain": [
       "10"
      ]
     },
     "execution_count": 60,
     "metadata": {},
     "output_type": "execute_result"
    }
   ],
   "source": [
    "my_list[5]"
   ]
  },
  {
   "cell_type": "code",
   "execution_count": 67,
   "id": "bde0be0e",
   "metadata": {},
   "outputs": [
    {
     "data": {
      "text/plain": [
       "['sdf', 5.77, True, 10]"
      ]
     },
     "execution_count": 67,
     "metadata": {},
     "output_type": "execute_result"
    }
   ],
   "source": [
    "my_list[2:]"
   ]
  },
  {
   "cell_type": "code",
   "execution_count": 68,
   "id": "192885a5",
   "metadata": {},
   "outputs": [
    {
     "data": {
      "text/plain": [
       "[7, 'sdf', 5.77, True]"
      ]
     },
     "execution_count": 68,
     "metadata": {},
     "output_type": "execute_result"
    }
   ],
   "source": [
    "my_list[1:5]"
   ]
  },
  {
   "cell_type": "code",
   "execution_count": 69,
   "id": "0a042277",
   "metadata": {},
   "outputs": [
    {
     "data": {
      "text/plain": [
       "10"
      ]
     },
     "execution_count": 69,
     "metadata": {},
     "output_type": "execute_result"
    }
   ],
   "source": [
    "my_list[-1]"
   ]
  },
  {
   "cell_type": "code",
   "execution_count": 70,
   "id": "c4dce99d",
   "metadata": {},
   "outputs": [
    {
     "data": {
      "text/plain": [
       "True"
      ]
     },
     "execution_count": 70,
     "metadata": {},
     "output_type": "execute_result"
    }
   ],
   "source": [
    "7 in my_list"
   ]
  },
  {
   "cell_type": "code",
   "execution_count": 72,
   "id": "9e0feb12",
   "metadata": {},
   "outputs": [
    {
     "data": {
      "text/plain": [
       "bool"
      ]
     },
     "execution_count": 72,
     "metadata": {},
     "output_type": "execute_result"
    }
   ],
   "source": [
    "type(5 in my_list)"
   ]
  },
  {
   "cell_type": "code",
   "execution_count": 73,
   "id": "abbae6f8",
   "metadata": {},
   "outputs": [
    {
     "data": {
      "text/plain": [
       "False"
      ]
     },
     "execution_count": 73,
     "metadata": {},
     "output_type": "execute_result"
    }
   ],
   "source": [
    "test = (5 in my_list)\n",
    "test"
   ]
  },
  {
   "cell_type": "code",
   "execution_count": 75,
   "id": "037dbf96",
   "metadata": {},
   "outputs": [
    {
     "data": {
      "text/plain": [
       "'s'"
      ]
     },
     "execution_count": 75,
     "metadata": {},
     "output_type": "execute_result"
    }
   ],
   "source": [
    "'adfsdfsadfasdfsdf'[3]"
   ]
  },
  {
   "cell_type": "code",
   "execution_count": 76,
   "id": "50da5ee3",
   "metadata": {},
   "outputs": [
    {
     "data": {
      "text/plain": [
       "'sfdsdfsdafuikuikyikygui'"
      ]
     },
     "execution_count": 76,
     "metadata": {},
     "output_type": "execute_result"
    }
   ],
   "source": [
    "'sfdsdfsdaf' + 'uikuikyikygui'"
   ]
  },
  {
   "cell_type": "code",
   "execution_count": 77,
   "id": "f7b2a233",
   "metadata": {},
   "outputs": [
    {
     "data": {
      "text/plain": [
       "'sdfs'"
      ]
     },
     "execution_count": 77,
     "metadata": {},
     "output_type": "execute_result"
    }
   ],
   "source": [
    "'adfsdfsadfasdfsdf'[3:7]"
   ]
  },
  {
   "cell_type": "code",
   "execution_count": 78,
   "id": "09a57e67",
   "metadata": {},
   "outputs": [
    {
     "data": {
      "text/plain": [
       "False"
      ]
     },
     "execution_count": 78,
     "metadata": {},
     "output_type": "execute_result"
    }
   ],
   "source": [
    "'a' in 'ghfghjfggfh'"
   ]
  },
  {
   "cell_type": "code",
   "execution_count": 79,
   "id": "595e9d73",
   "metadata": {},
   "outputs": [
    {
     "data": {
      "text/plain": [
       "True"
      ]
     },
     "execution_count": 79,
     "metadata": {},
     "output_type": "execute_result"
    }
   ],
   "source": [
    "'a' in 'ghfaghjfggfh'"
   ]
  },
  {
   "cell_type": "code",
   "execution_count": 80,
   "id": "e69eb99b",
   "metadata": {},
   "outputs": [],
   "source": [
    "my_list.append(57)"
   ]
  },
  {
   "cell_type": "code",
   "execution_count": 81,
   "id": "5d465dd1",
   "metadata": {},
   "outputs": [
    {
     "data": {
      "text/plain": [
       "[3, 7, 'sdf', 5.77, True, 10, 57]"
      ]
     },
     "execution_count": 81,
     "metadata": {},
     "output_type": "execute_result"
    }
   ],
   "source": [
    "my_list"
   ]
  },
  {
   "cell_type": "code",
   "execution_count": 82,
   "id": "9b7d1aa1",
   "metadata": {},
   "outputs": [
    {
     "data": {
      "text/plain": [
       "57"
      ]
     },
     "execution_count": 82,
     "metadata": {},
     "output_type": "execute_result"
    }
   ],
   "source": [
    "my_list.pop()"
   ]
  },
  {
   "cell_type": "code",
   "execution_count": 83,
   "id": "9159af6c",
   "metadata": {},
   "outputs": [
    {
     "data": {
      "text/plain": [
       "[3, 7, 'sdf', 5.77, True, 10]"
      ]
     },
     "execution_count": 83,
     "metadata": {},
     "output_type": "execute_result"
    }
   ],
   "source": [
    "my_list"
   ]
  },
  {
   "cell_type": "code",
   "execution_count": 84,
   "id": "01219aed",
   "metadata": {},
   "outputs": [],
   "source": [
    "my_list.append(57)"
   ]
  },
  {
   "cell_type": "code",
   "execution_count": 85,
   "id": "39515275",
   "metadata": {},
   "outputs": [
    {
     "data": {
      "text/plain": [
       "[3, 7, 'sdf', 5.77, True, 10, 57]"
      ]
     },
     "execution_count": 85,
     "metadata": {},
     "output_type": "execute_result"
    }
   ],
   "source": [
    "my_list"
   ]
  },
  {
   "cell_type": "code",
   "execution_count": 86,
   "id": "9b13ecac",
   "metadata": {},
   "outputs": [],
   "source": [
    "new_storage = my_list.pop()"
   ]
  },
  {
   "cell_type": "code",
   "execution_count": 87,
   "id": "56689c23",
   "metadata": {},
   "outputs": [
    {
     "data": {
      "text/plain": [
       "57"
      ]
     },
     "execution_count": 87,
     "metadata": {},
     "output_type": "execute_result"
    }
   ],
   "source": [
    "new_storage"
   ]
  },
  {
   "cell_type": "code",
   "execution_count": 88,
   "id": "dd2f39e1",
   "metadata": {},
   "outputs": [
    {
     "data": {
      "text/plain": [
       "[3, 7, 'sdf', 5.77, True, 10]"
      ]
     },
     "execution_count": 88,
     "metadata": {},
     "output_type": "execute_result"
    }
   ],
   "source": [
    "my_list"
   ]
  },
  {
   "cell_type": "code",
   "execution_count": 89,
   "id": "a84252c7",
   "metadata": {},
   "outputs": [
    {
     "data": {
      "text/plain": [
       "7"
      ]
     },
     "execution_count": 89,
     "metadata": {},
     "output_type": "execute_result"
    }
   ],
   "source": [
    "my_list.pop(1)"
   ]
  },
  {
   "cell_type": "code",
   "execution_count": 90,
   "id": "7b20ca9a",
   "metadata": {},
   "outputs": [
    {
     "data": {
      "text/plain": [
       "[3, 'sdf', 5.77, True, 10]"
      ]
     },
     "execution_count": 90,
     "metadata": {},
     "output_type": "execute_result"
    }
   ],
   "source": [
    "my_list"
   ]
  },
  {
   "cell_type": "code",
   "execution_count": 91,
   "id": "1858010a",
   "metadata": {},
   "outputs": [
    {
     "name": "stdout",
     "output_type": "stream",
     "text": [
      "3\n",
      "sdf\n",
      "5.77\n",
      "True\n",
      "10\n"
     ]
    }
   ],
   "source": [
    "for i in my_list:\n",
    "    print(i)"
   ]
  },
  {
   "cell_type": "code",
   "execution_count": 92,
   "id": "c1686314",
   "metadata": {},
   "outputs": [
    {
     "name": "stdout",
     "output_type": "stream",
     "text": [
      "3\n",
      "sdf\n",
      "5.77\n",
      "True\n",
      "10\n"
     ]
    }
   ],
   "source": [
    "for blah in my_list:\n",
    "    print(blah)"
   ]
  },
  {
   "cell_type": "code",
   "execution_count": 93,
   "id": "2546121e",
   "metadata": {},
   "outputs": [
    {
     "name": "stdout",
     "output_type": "stream",
     "text": [
      "y\n",
      "u\n",
      "t\n",
      "y\n",
      "u\n",
      "f\n",
      "g\n",
      "j\n",
      "g\n",
      "h\n",
      "j\n"
     ]
    }
   ],
   "source": [
    "for letter in string2:\n",
    "    print(letter)"
   ]
  },
  {
   "cell_type": "code",
   "execution_count": 94,
   "id": "8ecb48e8",
   "metadata": {},
   "outputs": [
    {
     "name": "stdout",
     "output_type": "stream",
     "text": [
      "not found\n"
     ]
    }
   ],
   "source": [
    "if 'a' in my_list:\n",
    "    print('found')\n",
    "else:\n",
    "    print('not found')"
   ]
  },
  {
   "cell_type": "code",
   "execution_count": 95,
   "id": "4e59daad",
   "metadata": {},
   "outputs": [
    {
     "name": "stdout",
     "output_type": "stream",
     "text": [
      "found\n"
     ]
    }
   ],
   "source": [
    "if 3 in my_list:\n",
    "    print('found')\n",
    "else:\n",
    "    print('not found')"
   ]
  },
  {
   "cell_type": "code",
   "execution_count": 96,
   "id": "7751eaf5",
   "metadata": {},
   "outputs": [],
   "source": [
    "def search_element(element,a_list):\n",
    "    if element in a_list:\n",
    "        print('found')\n",
    "    else:\n",
    "        print('not found')\n"
   ]
  },
  {
   "cell_type": "code",
   "execution_count": 97,
   "id": "e0e7f430",
   "metadata": {},
   "outputs": [
    {
     "name": "stdout",
     "output_type": "stream",
     "text": [
      "not found\n"
     ]
    }
   ],
   "source": [
    "search_element('a', my_list)"
   ]
  },
  {
   "cell_type": "code",
   "execution_count": 99,
   "id": "132faf0f",
   "metadata": {},
   "outputs": [
    {
     "name": "stdout",
     "output_type": "stream",
     "text": [
      "0\n",
      "not found\n",
      "1\n",
      "found\n",
      "2\n",
      "not found\n",
      "3\n",
      "found\n",
      "4\n",
      "not found\n",
      "5\n",
      "not found\n",
      "6\n",
      "not found\n",
      "7\n",
      "not found\n",
      "8\n",
      "not found\n",
      "9\n",
      "not found\n"
     ]
    }
   ],
   "source": [
    "for i in range(0,10):\n",
    "    print(i)\n",
    "    search_element(i, my_list)"
   ]
  },
  {
   "cell_type": "code",
   "execution_count": 100,
   "id": "04a022a6",
   "metadata": {},
   "outputs": [],
   "source": [
    "my_list.append([1,2,7])"
   ]
  },
  {
   "cell_type": "code",
   "execution_count": 101,
   "id": "7cd27b07",
   "metadata": {},
   "outputs": [
    {
     "data": {
      "text/plain": [
       "[3, 'sdf', 5.77, True, 10, [1, 2, 7]]"
      ]
     },
     "execution_count": 101,
     "metadata": {},
     "output_type": "execute_result"
    }
   ],
   "source": [
    "my_list"
   ]
  },
  {
   "cell_type": "code",
   "execution_count": 102,
   "id": "7e8ac62a",
   "metadata": {},
   "outputs": [],
   "source": [
    "person_dictionary = {'name':'Bob',\n",
    "                     'profession':'Doctor',\n",
    "                     'city':'London',\n",
    "                     'age':47}"
   ]
  },
  {
   "cell_type": "code",
   "execution_count": 103,
   "id": "5165ab01",
   "metadata": {},
   "outputs": [
    {
     "name": "stdout",
     "output_type": "stream",
     "text": [
      "name\n",
      "profession\n",
      "city\n",
      "age\n"
     ]
    }
   ],
   "source": [
    "for i in person_dictionary:\n",
    "    print(i)"
   ]
  },
  {
   "cell_type": "code",
   "execution_count": 104,
   "id": "15807286",
   "metadata": {},
   "outputs": [
    {
     "name": "stdout",
     "output_type": "stream",
     "text": [
      "Bob\n",
      "Doctor\n",
      "London\n",
      "47\n"
     ]
    }
   ],
   "source": [
    "for i in person_dictionary.values():\n",
    "    print(i)"
   ]
  },
  {
   "cell_type": "code",
   "execution_count": 105,
   "id": "6b4bdb28",
   "metadata": {},
   "outputs": [
    {
     "data": {
      "text/plain": [
       "'Bob'"
      ]
     },
     "execution_count": 105,
     "metadata": {},
     "output_type": "execute_result"
    }
   ],
   "source": [
    "person_dictionary['name']"
   ]
  },
  {
   "cell_type": "code",
   "execution_count": 106,
   "id": "cdfd9847",
   "metadata": {},
   "outputs": [
    {
     "data": {
      "text/plain": [
       "'London'"
      ]
     },
     "execution_count": 106,
     "metadata": {},
     "output_type": "execute_result"
    }
   ],
   "source": [
    "person_dictionary['city']"
   ]
  },
  {
   "cell_type": "code",
   "execution_count": 111,
   "id": "8e962990",
   "metadata": {},
   "outputs": [
    {
     "name": "stdout",
     "output_type": "stream",
     "text": [
      "name: Bob\n",
      "profession: Doctor\n",
      "city: London\n",
      "age: 47\n"
     ]
    }
   ],
   "source": [
    "for i in person_dictionary:\n",
    "    print(i + ': ' + str(person_dictionary[i]))"
   ]
  },
  {
   "cell_type": "code",
   "execution_count": 112,
   "id": "4c810074",
   "metadata": {},
   "outputs": [],
   "source": [
    "person_dictionary['city'] = 'Glasgow'"
   ]
  },
  {
   "cell_type": "code",
   "execution_count": 113,
   "id": "2387ecc4",
   "metadata": {},
   "outputs": [
    {
     "data": {
      "text/plain": [
       "{'name': 'Bob', 'profession': 'Doctor', 'city': 'Glasgow', 'age': 47}"
      ]
     },
     "execution_count": 113,
     "metadata": {},
     "output_type": "execute_result"
    }
   ],
   "source": [
    "person_dictionary"
   ]
  },
  {
   "cell_type": "code",
   "execution_count": 114,
   "id": "73818147",
   "metadata": {},
   "outputs": [],
   "source": [
    "person_dictionary['specialization'] = 'orthopedic surgeon'"
   ]
  },
  {
   "cell_type": "code",
   "execution_count": 115,
   "id": "6a7e9c0c",
   "metadata": {},
   "outputs": [
    {
     "data": {
      "text/plain": [
       "{'name': 'Bob',\n",
       " 'profession': 'Doctor',\n",
       " 'city': 'Glasgow',\n",
       " 'age': 47,\n",
       " 'specialization': 'orthopedic surgeon'}"
      ]
     },
     "execution_count": 115,
     "metadata": {},
     "output_type": "execute_result"
    }
   ],
   "source": [
    "person_dictionary"
   ]
  },
  {
   "cell_type": "code",
   "execution_count": 116,
   "id": "fb1e7e2a",
   "metadata": {},
   "outputs": [],
   "source": [
    "person_dictionary['education'] = {'undergrad':'UofT','medical school':'UBC'}"
   ]
  },
  {
   "cell_type": "code",
   "execution_count": 117,
   "id": "5e0f7bb1",
   "metadata": {},
   "outputs": [
    {
     "data": {
      "text/plain": [
       "{'name': 'Bob',\n",
       " 'profession': 'Doctor',\n",
       " 'city': 'Glasgow',\n",
       " 'age': 47,\n",
       " 'specialization': 'orthopedic surgeon',\n",
       " 'education': {'undergrad': 'UofT', 'medical school': 'UBC'}}"
      ]
     },
     "execution_count": 117,
     "metadata": {},
     "output_type": "execute_result"
    }
   ],
   "source": [
    "person_dictionary"
   ]
  },
  {
   "cell_type": "code",
   "execution_count": 118,
   "id": "e85b94ff",
   "metadata": {},
   "outputs": [
    {
     "data": {
      "text/plain": [
       "{'undergrad': 'UofT', 'medical school': 'UBC'}"
      ]
     },
     "execution_count": 118,
     "metadata": {},
     "output_type": "execute_result"
    }
   ],
   "source": [
    "person_dictionary['education']"
   ]
  },
  {
   "cell_type": "code",
   "execution_count": 119,
   "id": "c61788cd",
   "metadata": {},
   "outputs": [],
   "source": [
    "person_dictionary['education']['undergrad'] = {'school':'UofT','major': 'BsC in Biochemistry'}"
   ]
  },
  {
   "cell_type": "code",
   "execution_count": 120,
   "id": "86cbfa4c",
   "metadata": {},
   "outputs": [
    {
     "data": {
      "text/plain": [
       "{'name': 'Bob',\n",
       " 'profession': 'Doctor',\n",
       " 'city': 'Glasgow',\n",
       " 'age': 47,\n",
       " 'specialization': 'orthopedic surgeon',\n",
       " 'education': {'undergrad': {'school': 'UofT', 'major': 'BsC in Biochemistry'},\n",
       "  'medical school': 'UBC'}}"
      ]
     },
     "execution_count": 120,
     "metadata": {},
     "output_type": "execute_result"
    }
   ],
   "source": [
    "person_dictionary"
   ]
  },
  {
   "cell_type": "code",
   "execution_count": 121,
   "id": "42bf2e08",
   "metadata": {},
   "outputs": [
    {
     "data": {
      "text/plain": [
       "{'undergrad': {'school': 'UofT', 'major': 'BsC in Biochemistry'},\n",
       " 'medical school': 'UBC'}"
      ]
     },
     "execution_count": 121,
     "metadata": {},
     "output_type": "execute_result"
    }
   ],
   "source": [
    "person_dictionary['education']"
   ]
  },
  {
   "cell_type": "code",
   "execution_count": 122,
   "id": "9d531b16",
   "metadata": {},
   "outputs": [
    {
     "data": {
      "text/plain": [
       "{'name': 'Bob',\n",
       " 'profession': 'Doctor',\n",
       " 'city': 'Glasgow',\n",
       " 'age': 47,\n",
       " 'specialization': 'orthopedic surgeon',\n",
       " 'education': {'undergrad': {'school': 'UofT',\n",
       "   'major': 'BsC in Biochemistry'}}}"
      ]
     },
     "execution_count": 122,
     "metadata": {},
     "output_type": "execute_result"
    }
   ],
   "source": [
    "del person_dictionary['education']['medical school']\n",
    "person_dictionary"
   ]
  },
  {
   "cell_type": "code",
   "execution_count": 124,
   "id": "66f51530",
   "metadata": {},
   "outputs": [],
   "source": [
    "person_dictionary['education']['grad school'] = {'school': 'UBC', 'type': 'MD'}"
   ]
  },
  {
   "cell_type": "code",
   "execution_count": 125,
   "id": "b0b29fa7",
   "metadata": {},
   "outputs": [
    {
     "data": {
      "text/plain": [
       "{'name': 'Bob',\n",
       " 'profession': 'Doctor',\n",
       " 'city': 'Glasgow',\n",
       " 'age': 47,\n",
       " 'specialization': 'orthopedic surgeon',\n",
       " 'education': {'undergrad': {'school': 'UofT', 'major': 'BsC in Biochemistry'},\n",
       "  'grad school': {'school': 'UBC', 'type': 'MD'}}}"
      ]
     },
     "execution_count": 125,
     "metadata": {},
     "output_type": "execute_result"
    }
   ],
   "source": [
    "person_dictionary"
   ]
  },
  {
   "cell_type": "code",
   "execution_count": 126,
   "id": "063cafd9",
   "metadata": {},
   "outputs": [],
   "source": [
    "data_dict = {'variable1':[1,5,7,9,11],'variable2':[7,3,1,2,14],'variable3':[1,0,1,8,65]}"
   ]
  },
  {
   "cell_type": "code",
   "execution_count": 127,
   "id": "ac787e95",
   "metadata": {},
   "outputs": [
    {
     "data": {
      "text/plain": [
       "{'variable1': [1, 5, 7, 9, 11],\n",
       " 'variable2': [7, 3, 1, 2, 14],\n",
       " 'variable3': [1, 0, 1, 8, 65]}"
      ]
     },
     "execution_count": 127,
     "metadata": {},
     "output_type": "execute_result"
    }
   ],
   "source": [
    "data_dict"
   ]
  },
  {
   "cell_type": "code",
   "execution_count": 129,
   "id": "fd12c01d",
   "metadata": {},
   "outputs": [],
   "source": [
    "tracker = 0\n",
    "while tracker < tracker:\n",
    "    print(tracker)\n",
    "    tracker = tracker + 1"
   ]
  },
  {
   "cell_type": "code",
   "execution_count": 130,
   "id": "26c8de9f",
   "metadata": {},
   "outputs": [],
   "source": [
    "import pandas as pd\n",
    "import numpy as np\n",
    "import matplotlib.pyplot as plt"
   ]
  },
  {
   "cell_type": "code",
   "execution_count": 131,
   "id": "42b0d48b",
   "metadata": {},
   "outputs": [
    {
     "data": {
      "text/plain": [
       "'C:\\\\Users\\\\wedwa\\\\OneDrive\\\\Documents\\\\4th_wave_cantek'"
      ]
     },
     "execution_count": 131,
     "metadata": {},
     "output_type": "execute_result"
    }
   ],
   "source": [
    "pwd"
   ]
  },
  {
   "cell_type": "code",
   "execution_count": 132,
   "id": "913cf601",
   "metadata": {},
   "outputs": [],
   "source": [
    "country_data = pd.read_csv('Countries_of_the_world_1970 - imputed_international_data_70 (1).csv')"
   ]
  },
  {
   "cell_type": "code",
   "execution_count": 133,
   "id": "9826bcbe",
   "metadata": {},
   "outputs": [
    {
     "data": {
      "text/html": [
       "<div>\n",
       "<style scoped>\n",
       "    .dataframe tbody tr th:only-of-type {\n",
       "        vertical-align: middle;\n",
       "    }\n",
       "\n",
       "    .dataframe tbody tr th {\n",
       "        vertical-align: top;\n",
       "    }\n",
       "\n",
       "    .dataframe thead th {\n",
       "        text-align: right;\n",
       "    }\n",
       "</style>\n",
       "<table border=\"1\" class=\"dataframe\">\n",
       "  <thead>\n",
       "    <tr style=\"text-align: right;\">\n",
       "      <th></th>\n",
       "      <th>Entity</th>\n",
       "      <th>indiv_libs_vdem_owid</th>\n",
       "      <th>electdem_vdem_owid</th>\n",
       "      <th>libdem_vdem_owid</th>\n",
       "      <th>Countries</th>\n",
       "      <th>Economic.Freedom.Summary.Index</th>\n",
       "      <th>Government.consumption</th>\n",
       "      <th>Transfers.and.subsidies</th>\n",
       "      <th>Government.investment</th>\n",
       "      <th>State.ownership.of.assets</th>\n",
       "      <th>...</th>\n",
       "      <th>Centralized.collective.bargaining</th>\n",
       "      <th>Hours.Regulations</th>\n",
       "      <th>Conscription</th>\n",
       "      <th>Labor.market.regulations</th>\n",
       "      <th>Impartial.Public.Administration</th>\n",
       "      <th>Regulation</th>\n",
       "      <th>alliance</th>\n",
       "      <th>regimenarrowcat</th>\n",
       "      <th>Regime_type</th>\n",
       "      <th>id</th>\n",
       "    </tr>\n",
       "  </thead>\n",
       "  <tbody>\n",
       "    <tr>\n",
       "      <th>0</th>\n",
       "      <td>Afghanistan</td>\n",
       "      <td>0.266</td>\n",
       "      <td>0.160</td>\n",
       "      <td>0.104</td>\n",
       "      <td>NaN</td>\n",
       "      <td>5.506573</td>\n",
       "      <td>6.393604</td>\n",
       "      <td>8.740967</td>\n",
       "      <td>5.519734</td>\n",
       "      <td>5.025106</td>\n",
       "      <td>...</td>\n",
       "      <td>5.897546</td>\n",
       "      <td>5.932564</td>\n",
       "      <td>2.392234</td>\n",
       "      <td>4.700103</td>\n",
       "      <td>4.887146</td>\n",
       "      <td>4.776903</td>\n",
       "      <td>not a US ally</td>\n",
       "      <td>8.0</td>\n",
       "      <td>Monarchy</td>\n",
       "      <td>1</td>\n",
       "    </tr>\n",
       "    <tr>\n",
       "      <th>1</th>\n",
       "      <td>Albania</td>\n",
       "      <td>0.006</td>\n",
       "      <td>0.173</td>\n",
       "      <td>0.055</td>\n",
       "      <td>Albania</td>\n",
       "      <td>3.713222</td>\n",
       "      <td>3.170575</td>\n",
       "      <td>8.262926</td>\n",
       "      <td>-0.627520</td>\n",
       "      <td>0.180000</td>\n",
       "      <td>...</td>\n",
       "      <td>4.220652</td>\n",
       "      <td>4.846848</td>\n",
       "      <td>0.000000</td>\n",
       "      <td>4.215714</td>\n",
       "      <td>1.750000</td>\n",
       "      <td>3.230021</td>\n",
       "      <td>not a US ally</td>\n",
       "      <td>4.0</td>\n",
       "      <td>Single-party rule</td>\n",
       "      <td>2</td>\n",
       "    </tr>\n",
       "    <tr>\n",
       "      <th>2</th>\n",
       "      <td>Algeria</td>\n",
       "      <td>0.428</td>\n",
       "      <td>0.084</td>\n",
       "      <td>0.065</td>\n",
       "      <td>Algeria</td>\n",
       "      <td>4.680000</td>\n",
       "      <td>5.540000</td>\n",
       "      <td>9.322154</td>\n",
       "      <td>7.320000</td>\n",
       "      <td>2.490000</td>\n",
       "      <td>...</td>\n",
       "      <td>5.540452</td>\n",
       "      <td>6.185718</td>\n",
       "      <td>3.000000</td>\n",
       "      <td>4.572435</td>\n",
       "      <td>3.910000</td>\n",
       "      <td>3.630000</td>\n",
       "      <td>not a US ally</td>\n",
       "      <td>7.0</td>\n",
       "      <td>Military rule</td>\n",
       "      <td>3</td>\n",
       "    </tr>\n",
       "    <tr>\n",
       "      <th>3</th>\n",
       "      <td>Angola</td>\n",
       "      <td>0.024</td>\n",
       "      <td>0.010</td>\n",
       "      <td>0.035</td>\n",
       "      <td>Angola</td>\n",
       "      <td>4.547754</td>\n",
       "      <td>6.109553</td>\n",
       "      <td>8.385527</td>\n",
       "      <td>4.949296</td>\n",
       "      <td>3.180000</td>\n",
       "      <td>...</td>\n",
       "      <td>4.641346</td>\n",
       "      <td>5.671838</td>\n",
       "      <td>0.536243</td>\n",
       "      <td>3.955813</td>\n",
       "      <td>2.370000</td>\n",
       "      <td>3.778725</td>\n",
       "      <td>not a US ally</td>\n",
       "      <td>NaN</td>\n",
       "      <td>unknown</td>\n",
       "      <td>4</td>\n",
       "    </tr>\n",
       "    <tr>\n",
       "      <th>4</th>\n",
       "      <td>Argentina</td>\n",
       "      <td>0.354</td>\n",
       "      <td>0.105</td>\n",
       "      <td>0.086</td>\n",
       "      <td>Argentina</td>\n",
       "      <td>5.980000</td>\n",
       "      <td>7.930000</td>\n",
       "      <td>8.006018</td>\n",
       "      <td>8.187808</td>\n",
       "      <td>6.150000</td>\n",
       "      <td>...</td>\n",
       "      <td>5.180000</td>\n",
       "      <td>5.720000</td>\n",
       "      <td>0.000000</td>\n",
       "      <td>3.630000</td>\n",
       "      <td>2.420000</td>\n",
       "      <td>5.310000</td>\n",
       "      <td>US ally</td>\n",
       "      <td>7.0</td>\n",
       "      <td>Military rule</td>\n",
       "      <td>5</td>\n",
       "    </tr>\n",
       "    <tr>\n",
       "      <th>...</th>\n",
       "      <td>...</td>\n",
       "      <td>...</td>\n",
       "      <td>...</td>\n",
       "      <td>...</td>\n",
       "      <td>...</td>\n",
       "      <td>...</td>\n",
       "      <td>...</td>\n",
       "      <td>...</td>\n",
       "      <td>...</td>\n",
       "      <td>...</td>\n",
       "      <td>...</td>\n",
       "      <td>...</td>\n",
       "      <td>...</td>\n",
       "      <td>...</td>\n",
       "      <td>...</td>\n",
       "      <td>...</td>\n",
       "      <td>...</td>\n",
       "      <td>...</td>\n",
       "      <td>...</td>\n",
       "      <td>...</td>\n",
       "      <td>...</td>\n",
       "    </tr>\n",
       "    <tr>\n",
       "      <th>177</th>\n",
       "      <td>United Arab Emirates</td>\n",
       "      <td>NaN</td>\n",
       "      <td>NaN</td>\n",
       "      <td>NaN</td>\n",
       "      <td>United Arab Emirates</td>\n",
       "      <td>5.318299</td>\n",
       "      <td>6.321991</td>\n",
       "      <td>7.942938</td>\n",
       "      <td>6.984351</td>\n",
       "      <td>5.128654</td>\n",
       "      <td>...</td>\n",
       "      <td>4.578971</td>\n",
       "      <td>5.804901</td>\n",
       "      <td>-1.635512</td>\n",
       "      <td>3.297957</td>\n",
       "      <td>4.408227</td>\n",
       "      <td>4.057185</td>\n",
       "      <td>not a US ally</td>\n",
       "      <td>NaN</td>\n",
       "      <td>unknown</td>\n",
       "      <td>178</td>\n",
       "    </tr>\n",
       "    <tr>\n",
       "      <th>178</th>\n",
       "      <td>Bahamas, The</td>\n",
       "      <td>NaN</td>\n",
       "      <td>NaN</td>\n",
       "      <td>NaN</td>\n",
       "      <td>Bahamas, The</td>\n",
       "      <td>6.444528</td>\n",
       "      <td>7.929654</td>\n",
       "      <td>9.750000</td>\n",
       "      <td>8.271012</td>\n",
       "      <td>7.359644</td>\n",
       "      <td>...</td>\n",
       "      <td>7.506363</td>\n",
       "      <td>6.864895</td>\n",
       "      <td>6.740750</td>\n",
       "      <td>6.570836</td>\n",
       "      <td>6.959719</td>\n",
       "      <td>6.624903</td>\n",
       "      <td>not a US ally</td>\n",
       "      <td>NaN</td>\n",
       "      <td>unknown</td>\n",
       "      <td>179</td>\n",
       "    </tr>\n",
       "    <tr>\n",
       "      <th>179</th>\n",
       "      <td>Belize</td>\n",
       "      <td>NaN</td>\n",
       "      <td>NaN</td>\n",
       "      <td>NaN</td>\n",
       "      <td>Belize</td>\n",
       "      <td>6.552629</td>\n",
       "      <td>6.550790</td>\n",
       "      <td>8.277202</td>\n",
       "      <td>6.172708</td>\n",
       "      <td>6.257622</td>\n",
       "      <td>...</td>\n",
       "      <td>6.498267</td>\n",
       "      <td>5.631109</td>\n",
       "      <td>4.938871</td>\n",
       "      <td>5.273427</td>\n",
       "      <td>6.551369</td>\n",
       "      <td>5.902861</td>\n",
       "      <td>not a US ally</td>\n",
       "      <td>NaN</td>\n",
       "      <td>unknown</td>\n",
       "      <td>180</td>\n",
       "    </tr>\n",
       "    <tr>\n",
       "      <th>180</th>\n",
       "      <td>Brunei Darussalam</td>\n",
       "      <td>NaN</td>\n",
       "      <td>NaN</td>\n",
       "      <td>NaN</td>\n",
       "      <td>Brunei Darussalam</td>\n",
       "      <td>5.429512</td>\n",
       "      <td>6.567417</td>\n",
       "      <td>8.823056</td>\n",
       "      <td>5.877209</td>\n",
       "      <td>5.083315</td>\n",
       "      <td>...</td>\n",
       "      <td>5.809336</td>\n",
       "      <td>6.037126</td>\n",
       "      <td>1.554685</td>\n",
       "      <td>4.469860</td>\n",
       "      <td>4.482676</td>\n",
       "      <td>4.579663</td>\n",
       "      <td>not a US ally</td>\n",
       "      <td>NaN</td>\n",
       "      <td>unknown</td>\n",
       "      <td>181</td>\n",
       "    </tr>\n",
       "    <tr>\n",
       "      <th>181</th>\n",
       "      <td>Montenegro</td>\n",
       "      <td>NaN</td>\n",
       "      <td>NaN</td>\n",
       "      <td>NaN</td>\n",
       "      <td>Montenegro</td>\n",
       "      <td>5.034850</td>\n",
       "      <td>6.090277</td>\n",
       "      <td>9.203655</td>\n",
       "      <td>3.880783</td>\n",
       "      <td>4.024726</td>\n",
       "      <td>...</td>\n",
       "      <td>6.080078</td>\n",
       "      <td>5.883605</td>\n",
       "      <td>3.366051</td>\n",
       "      <td>5.037536</td>\n",
       "      <td>4.246232</td>\n",
       "      <td>4.497032</td>\n",
       "      <td>not a US ally</td>\n",
       "      <td>4.0</td>\n",
       "      <td>Single-party rule</td>\n",
       "      <td>182</td>\n",
       "    </tr>\n",
       "  </tbody>\n",
       "</table>\n",
       "<p>182 rows × 43 columns</p>\n",
       "</div>"
      ],
      "text/plain": [
       "                   Entity  indiv_libs_vdem_owid  electdem_vdem_owid  \\\n",
       "0             Afghanistan                 0.266               0.160   \n",
       "1                 Albania                 0.006               0.173   \n",
       "2                 Algeria                 0.428               0.084   \n",
       "3                  Angola                 0.024               0.010   \n",
       "4               Argentina                 0.354               0.105   \n",
       "..                    ...                   ...                 ...   \n",
       "177  United Arab Emirates                   NaN                 NaN   \n",
       "178          Bahamas, The                   NaN                 NaN   \n",
       "179                Belize                   NaN                 NaN   \n",
       "180     Brunei Darussalam                   NaN                 NaN   \n",
       "181            Montenegro                   NaN                 NaN   \n",
       "\n",
       "     libdem_vdem_owid             Countries  Economic.Freedom.Summary.Index  \\\n",
       "0               0.104                   NaN                        5.506573   \n",
       "1               0.055               Albania                        3.713222   \n",
       "2               0.065               Algeria                        4.680000   \n",
       "3               0.035                Angola                        4.547754   \n",
       "4               0.086             Argentina                        5.980000   \n",
       "..                ...                   ...                             ...   \n",
       "177               NaN  United Arab Emirates                        5.318299   \n",
       "178               NaN          Bahamas, The                        6.444528   \n",
       "179               NaN                Belize                        6.552629   \n",
       "180               NaN     Brunei Darussalam                        5.429512   \n",
       "181               NaN            Montenegro                        5.034850   \n",
       "\n",
       "     Government.consumption  Transfers.and.subsidies  Government.investment  \\\n",
       "0                  6.393604                 8.740967               5.519734   \n",
       "1                  3.170575                 8.262926              -0.627520   \n",
       "2                  5.540000                 9.322154               7.320000   \n",
       "3                  6.109553                 8.385527               4.949296   \n",
       "4                  7.930000                 8.006018               8.187808   \n",
       "..                      ...                      ...                    ...   \n",
       "177                6.321991                 7.942938               6.984351   \n",
       "178                7.929654                 9.750000               8.271012   \n",
       "179                6.550790                 8.277202               6.172708   \n",
       "180                6.567417                 8.823056               5.877209   \n",
       "181                6.090277                 9.203655               3.880783   \n",
       "\n",
       "     State.ownership.of.assets  ...  Centralized.collective.bargaining  \\\n",
       "0                     5.025106  ...                           5.897546   \n",
       "1                     0.180000  ...                           4.220652   \n",
       "2                     2.490000  ...                           5.540452   \n",
       "3                     3.180000  ...                           4.641346   \n",
       "4                     6.150000  ...                           5.180000   \n",
       "..                         ...  ...                                ...   \n",
       "177                   5.128654  ...                           4.578971   \n",
       "178                   7.359644  ...                           7.506363   \n",
       "179                   6.257622  ...                           6.498267   \n",
       "180                   5.083315  ...                           5.809336   \n",
       "181                   4.024726  ...                           6.080078   \n",
       "\n",
       "     Hours.Regulations  Conscription  Labor.market.regulations  \\\n",
       "0             5.932564      2.392234                  4.700103   \n",
       "1             4.846848      0.000000                  4.215714   \n",
       "2             6.185718      3.000000                  4.572435   \n",
       "3             5.671838      0.536243                  3.955813   \n",
       "4             5.720000      0.000000                  3.630000   \n",
       "..                 ...           ...                       ...   \n",
       "177           5.804901     -1.635512                  3.297957   \n",
       "178           6.864895      6.740750                  6.570836   \n",
       "179           5.631109      4.938871                  5.273427   \n",
       "180           6.037126      1.554685                  4.469860   \n",
       "181           5.883605      3.366051                  5.037536   \n",
       "\n",
       "     Impartial.Public.Administration  Regulation       alliance  \\\n",
       "0                           4.887146    4.776903  not a US ally   \n",
       "1                           1.750000    3.230021  not a US ally   \n",
       "2                           3.910000    3.630000  not a US ally   \n",
       "3                           2.370000    3.778725  not a US ally   \n",
       "4                           2.420000    5.310000        US ally   \n",
       "..                               ...         ...            ...   \n",
       "177                         4.408227    4.057185  not a US ally   \n",
       "178                         6.959719    6.624903  not a US ally   \n",
       "179                         6.551369    5.902861  not a US ally   \n",
       "180                         4.482676    4.579663  not a US ally   \n",
       "181                         4.246232    4.497032  not a US ally   \n",
       "\n",
       "     regimenarrowcat        Regime_type   id  \n",
       "0                8.0           Monarchy    1  \n",
       "1                4.0  Single-party rule    2  \n",
       "2                7.0      Military rule    3  \n",
       "3                NaN            unknown    4  \n",
       "4                7.0      Military rule    5  \n",
       "..               ...                ...  ...  \n",
       "177              NaN            unknown  178  \n",
       "178              NaN            unknown  179  \n",
       "179              NaN            unknown  180  \n",
       "180              NaN            unknown  181  \n",
       "181              4.0  Single-party rule  182  \n",
       "\n",
       "[182 rows x 43 columns]"
      ]
     },
     "execution_count": 133,
     "metadata": {},
     "output_type": "execute_result"
    }
   ],
   "source": [
    "country_data"
   ]
  },
  {
   "cell_type": "code",
   "execution_count": 135,
   "id": "5fb3f29e",
   "metadata": {},
   "outputs": [
    {
     "data": {
      "text/html": [
       "<div>\n",
       "<style scoped>\n",
       "    .dataframe tbody tr th:only-of-type {\n",
       "        vertical-align: middle;\n",
       "    }\n",
       "\n",
       "    .dataframe tbody tr th {\n",
       "        vertical-align: top;\n",
       "    }\n",
       "\n",
       "    .dataframe thead th {\n",
       "        text-align: right;\n",
       "    }\n",
       "</style>\n",
       "<table border=\"1\" class=\"dataframe\">\n",
       "  <thead>\n",
       "    <tr style=\"text-align: right;\">\n",
       "      <th></th>\n",
       "      <th>Entity</th>\n",
       "      <th>indiv_libs_vdem_owid</th>\n",
       "      <th>electdem_vdem_owid</th>\n",
       "      <th>libdem_vdem_owid</th>\n",
       "      <th>Countries</th>\n",
       "      <th>Economic.Freedom.Summary.Index</th>\n",
       "      <th>Government.consumption</th>\n",
       "      <th>Transfers.and.subsidies</th>\n",
       "      <th>Government.investment</th>\n",
       "      <th>State.ownership.of.assets</th>\n",
       "      <th>...</th>\n",
       "      <th>Centralized.collective.bargaining</th>\n",
       "      <th>Hours.Regulations</th>\n",
       "      <th>Conscription</th>\n",
       "      <th>Labor.market.regulations</th>\n",
       "      <th>Impartial.Public.Administration</th>\n",
       "      <th>Regulation</th>\n",
       "      <th>alliance</th>\n",
       "      <th>regimenarrowcat</th>\n",
       "      <th>Regime_type</th>\n",
       "      <th>id</th>\n",
       "    </tr>\n",
       "  </thead>\n",
       "  <tbody>\n",
       "    <tr>\n",
       "      <th>0</th>\n",
       "      <td>Afghanistan</td>\n",
       "      <td>0.266</td>\n",
       "      <td>0.160</td>\n",
       "      <td>0.104</td>\n",
       "      <td>NaN</td>\n",
       "      <td>5.506573</td>\n",
       "      <td>6.393604</td>\n",
       "      <td>8.740967</td>\n",
       "      <td>5.519734</td>\n",
       "      <td>5.025106</td>\n",
       "      <td>...</td>\n",
       "      <td>5.897546</td>\n",
       "      <td>5.932564</td>\n",
       "      <td>2.392234</td>\n",
       "      <td>4.700103</td>\n",
       "      <td>4.887146</td>\n",
       "      <td>4.776903</td>\n",
       "      <td>not a US ally</td>\n",
       "      <td>8.0</td>\n",
       "      <td>Monarchy</td>\n",
       "      <td>1</td>\n",
       "    </tr>\n",
       "    <tr>\n",
       "      <th>1</th>\n",
       "      <td>Albania</td>\n",
       "      <td>0.006</td>\n",
       "      <td>0.173</td>\n",
       "      <td>0.055</td>\n",
       "      <td>Albania</td>\n",
       "      <td>3.713222</td>\n",
       "      <td>3.170575</td>\n",
       "      <td>8.262926</td>\n",
       "      <td>-0.627520</td>\n",
       "      <td>0.180000</td>\n",
       "      <td>...</td>\n",
       "      <td>4.220652</td>\n",
       "      <td>4.846848</td>\n",
       "      <td>0.000000</td>\n",
       "      <td>4.215714</td>\n",
       "      <td>1.750000</td>\n",
       "      <td>3.230021</td>\n",
       "      <td>not a US ally</td>\n",
       "      <td>4.0</td>\n",
       "      <td>Single-party rule</td>\n",
       "      <td>2</td>\n",
       "    </tr>\n",
       "    <tr>\n",
       "      <th>2</th>\n",
       "      <td>Algeria</td>\n",
       "      <td>0.428</td>\n",
       "      <td>0.084</td>\n",
       "      <td>0.065</td>\n",
       "      <td>Algeria</td>\n",
       "      <td>4.680000</td>\n",
       "      <td>5.540000</td>\n",
       "      <td>9.322154</td>\n",
       "      <td>7.320000</td>\n",
       "      <td>2.490000</td>\n",
       "      <td>...</td>\n",
       "      <td>5.540452</td>\n",
       "      <td>6.185718</td>\n",
       "      <td>3.000000</td>\n",
       "      <td>4.572435</td>\n",
       "      <td>3.910000</td>\n",
       "      <td>3.630000</td>\n",
       "      <td>not a US ally</td>\n",
       "      <td>7.0</td>\n",
       "      <td>Military rule</td>\n",
       "      <td>3</td>\n",
       "    </tr>\n",
       "    <tr>\n",
       "      <th>3</th>\n",
       "      <td>Angola</td>\n",
       "      <td>0.024</td>\n",
       "      <td>0.010</td>\n",
       "      <td>0.035</td>\n",
       "      <td>Angola</td>\n",
       "      <td>4.547754</td>\n",
       "      <td>6.109553</td>\n",
       "      <td>8.385527</td>\n",
       "      <td>4.949296</td>\n",
       "      <td>3.180000</td>\n",
       "      <td>...</td>\n",
       "      <td>4.641346</td>\n",
       "      <td>5.671838</td>\n",
       "      <td>0.536243</td>\n",
       "      <td>3.955813</td>\n",
       "      <td>2.370000</td>\n",
       "      <td>3.778725</td>\n",
       "      <td>not a US ally</td>\n",
       "      <td>NaN</td>\n",
       "      <td>unknown</td>\n",
       "      <td>4</td>\n",
       "    </tr>\n",
       "    <tr>\n",
       "      <th>4</th>\n",
       "      <td>Argentina</td>\n",
       "      <td>0.354</td>\n",
       "      <td>0.105</td>\n",
       "      <td>0.086</td>\n",
       "      <td>Argentina</td>\n",
       "      <td>5.980000</td>\n",
       "      <td>7.930000</td>\n",
       "      <td>8.006018</td>\n",
       "      <td>8.187808</td>\n",
       "      <td>6.150000</td>\n",
       "      <td>...</td>\n",
       "      <td>5.180000</td>\n",
       "      <td>5.720000</td>\n",
       "      <td>0.000000</td>\n",
       "      <td>3.630000</td>\n",
       "      <td>2.420000</td>\n",
       "      <td>5.310000</td>\n",
       "      <td>US ally</td>\n",
       "      <td>7.0</td>\n",
       "      <td>Military rule</td>\n",
       "      <td>5</td>\n",
       "    </tr>\n",
       "    <tr>\n",
       "      <th>5</th>\n",
       "      <td>Armenia</td>\n",
       "      <td>0.094</td>\n",
       "      <td>0.102</td>\n",
       "      <td>0.024</td>\n",
       "      <td>Armenia</td>\n",
       "      <td>4.543790</td>\n",
       "      <td>6.061647</td>\n",
       "      <td>9.695219</td>\n",
       "      <td>2.974573</td>\n",
       "      <td>3.267026</td>\n",
       "      <td>...</td>\n",
       "      <td>6.120053</td>\n",
       "      <td>5.976917</td>\n",
       "      <td>3.102853</td>\n",
       "      <td>5.022989</td>\n",
       "      <td>3.191819</td>\n",
       "      <td>4.010850</td>\n",
       "      <td>not a US ally</td>\n",
       "      <td>4.0</td>\n",
       "      <td>Single-party rule</td>\n",
       "      <td>6</td>\n",
       "    </tr>\n",
       "    <tr>\n",
       "      <th>6</th>\n",
       "      <td>Australia</td>\n",
       "      <td>0.980</td>\n",
       "      <td>0.860</td>\n",
       "      <td>0.807</td>\n",
       "      <td>Australia</td>\n",
       "      <td>7.560000</td>\n",
       "      <td>6.170000</td>\n",
       "      <td>6.968283</td>\n",
       "      <td>10.000000</td>\n",
       "      <td>7.380000</td>\n",
       "      <td>...</td>\n",
       "      <td>5.180000</td>\n",
       "      <td>5.321900</td>\n",
       "      <td>0.000000</td>\n",
       "      <td>4.346862</td>\n",
       "      <td>9.760000</td>\n",
       "      <td>5.720000</td>\n",
       "      <td>US ally</td>\n",
       "      <td>0.0</td>\n",
       "      <td>Democracy</td>\n",
       "      <td>7</td>\n",
       "    </tr>\n",
       "    <tr>\n",
       "      <th>7</th>\n",
       "      <td>Austria</td>\n",
       "      <td>0.949</td>\n",
       "      <td>0.843</td>\n",
       "      <td>0.728</td>\n",
       "      <td>Austria</td>\n",
       "      <td>6.610000</td>\n",
       "      <td>5.450000</td>\n",
       "      <td>6.070000</td>\n",
       "      <td>7.820000</td>\n",
       "      <td>4.780000</td>\n",
       "      <td>...</td>\n",
       "      <td>4.490000</td>\n",
       "      <td>5.010000</td>\n",
       "      <td>0.000000</td>\n",
       "      <td>3.170000</td>\n",
       "      <td>8.060000</td>\n",
       "      <td>5.160000</td>\n",
       "      <td>not a US ally</td>\n",
       "      <td>0.0</td>\n",
       "      <td>Democracy</td>\n",
       "      <td>8</td>\n",
       "    </tr>\n",
       "    <tr>\n",
       "      <th>8</th>\n",
       "      <td>Azerbaijan</td>\n",
       "      <td>0.094</td>\n",
       "      <td>0.102</td>\n",
       "      <td>0.024</td>\n",
       "      <td>Azerbaijan</td>\n",
       "      <td>4.562497</td>\n",
       "      <td>6.062738</td>\n",
       "      <td>9.676493</td>\n",
       "      <td>3.009096</td>\n",
       "      <td>3.295890</td>\n",
       "      <td>...</td>\n",
       "      <td>6.118530</td>\n",
       "      <td>5.973363</td>\n",
       "      <td>3.112880</td>\n",
       "      <td>5.023543</td>\n",
       "      <td>3.231987</td>\n",
       "      <td>4.029372</td>\n",
       "      <td>not a US ally</td>\n",
       "      <td>4.0</td>\n",
       "      <td>Single-party rule</td>\n",
       "      <td>9</td>\n",
       "    </tr>\n",
       "    <tr>\n",
       "      <th>9</th>\n",
       "      <td>Bahrain</td>\n",
       "      <td>0.449</td>\n",
       "      <td>0.024</td>\n",
       "      <td>NaN</td>\n",
       "      <td>Bahrain</td>\n",
       "      <td>5.990742</td>\n",
       "      <td>7.066136</td>\n",
       "      <td>9.231391</td>\n",
       "      <td>7.644778</td>\n",
       "      <td>2.550000</td>\n",
       "      <td>...</td>\n",
       "      <td>6.308791</td>\n",
       "      <td>6.602108</td>\n",
       "      <td>-1.105166</td>\n",
       "      <td>3.916456</td>\n",
       "      <td>5.160000</td>\n",
       "      <td>4.570043</td>\n",
       "      <td>not a US ally</td>\n",
       "      <td>NaN</td>\n",
       "      <td>unknown</td>\n",
       "      <td>10</td>\n",
       "    </tr>\n",
       "  </tbody>\n",
       "</table>\n",
       "<p>10 rows × 43 columns</p>\n",
       "</div>"
      ],
      "text/plain": [
       "        Entity  indiv_libs_vdem_owid  electdem_vdem_owid  libdem_vdem_owid  \\\n",
       "0  Afghanistan                 0.266               0.160             0.104   \n",
       "1      Albania                 0.006               0.173             0.055   \n",
       "2      Algeria                 0.428               0.084             0.065   \n",
       "3       Angola                 0.024               0.010             0.035   \n",
       "4    Argentina                 0.354               0.105             0.086   \n",
       "5      Armenia                 0.094               0.102             0.024   \n",
       "6    Australia                 0.980               0.860             0.807   \n",
       "7      Austria                 0.949               0.843             0.728   \n",
       "8   Azerbaijan                 0.094               0.102             0.024   \n",
       "9      Bahrain                 0.449               0.024               NaN   \n",
       "\n",
       "    Countries  Economic.Freedom.Summary.Index  Government.consumption  \\\n",
       "0         NaN                        5.506573                6.393604   \n",
       "1     Albania                        3.713222                3.170575   \n",
       "2     Algeria                        4.680000                5.540000   \n",
       "3      Angola                        4.547754                6.109553   \n",
       "4   Argentina                        5.980000                7.930000   \n",
       "5     Armenia                        4.543790                6.061647   \n",
       "6   Australia                        7.560000                6.170000   \n",
       "7     Austria                        6.610000                5.450000   \n",
       "8  Azerbaijan                        4.562497                6.062738   \n",
       "9     Bahrain                        5.990742                7.066136   \n",
       "\n",
       "   Transfers.and.subsidies  Government.investment  State.ownership.of.assets  \\\n",
       "0                 8.740967               5.519734                   5.025106   \n",
       "1                 8.262926              -0.627520                   0.180000   \n",
       "2                 9.322154               7.320000                   2.490000   \n",
       "3                 8.385527               4.949296                   3.180000   \n",
       "4                 8.006018               8.187808                   6.150000   \n",
       "5                 9.695219               2.974573                   3.267026   \n",
       "6                 6.968283              10.000000                   7.380000   \n",
       "7                 6.070000               7.820000                   4.780000   \n",
       "8                 9.676493               3.009096                   3.295890   \n",
       "9                 9.231391               7.644778                   2.550000   \n",
       "\n",
       "   ...  Centralized.collective.bargaining  Hours.Regulations  Conscription  \\\n",
       "0  ...                           5.897546           5.932564      2.392234   \n",
       "1  ...                           4.220652           4.846848      0.000000   \n",
       "2  ...                           5.540452           6.185718      3.000000   \n",
       "3  ...                           4.641346           5.671838      0.536243   \n",
       "4  ...                           5.180000           5.720000      0.000000   \n",
       "5  ...                           6.120053           5.976917      3.102853   \n",
       "6  ...                           5.180000           5.321900      0.000000   \n",
       "7  ...                           4.490000           5.010000      0.000000   \n",
       "8  ...                           6.118530           5.973363      3.112880   \n",
       "9  ...                           6.308791           6.602108     -1.105166   \n",
       "\n",
       "   Labor.market.regulations  Impartial.Public.Administration  Regulation  \\\n",
       "0                  4.700103                         4.887146    4.776903   \n",
       "1                  4.215714                         1.750000    3.230021   \n",
       "2                  4.572435                         3.910000    3.630000   \n",
       "3                  3.955813                         2.370000    3.778725   \n",
       "4                  3.630000                         2.420000    5.310000   \n",
       "5                  5.022989                         3.191819    4.010850   \n",
       "6                  4.346862                         9.760000    5.720000   \n",
       "7                  3.170000                         8.060000    5.160000   \n",
       "8                  5.023543                         3.231987    4.029372   \n",
       "9                  3.916456                         5.160000    4.570043   \n",
       "\n",
       "        alliance  regimenarrowcat        Regime_type  id  \n",
       "0  not a US ally              8.0           Monarchy   1  \n",
       "1  not a US ally              4.0  Single-party rule   2  \n",
       "2  not a US ally              7.0      Military rule   3  \n",
       "3  not a US ally              NaN            unknown   4  \n",
       "4        US ally              7.0      Military rule   5  \n",
       "5  not a US ally              4.0  Single-party rule   6  \n",
       "6        US ally              0.0          Democracy   7  \n",
       "7  not a US ally              0.0          Democracy   8  \n",
       "8  not a US ally              4.0  Single-party rule   9  \n",
       "9  not a US ally              NaN            unknown  10  \n",
       "\n",
       "[10 rows x 43 columns]"
      ]
     },
     "execution_count": 135,
     "metadata": {},
     "output_type": "execute_result"
    }
   ],
   "source": [
    "country_data.head(10)"
   ]
  },
  {
   "cell_type": "code",
   "execution_count": 136,
   "id": "e01f8c8a",
   "metadata": {},
   "outputs": [
    {
     "data": {
      "text/plain": [
       "0               Afghanistan\n",
       "1                   Albania\n",
       "2                   Algeria\n",
       "3                    Angola\n",
       "4                 Argentina\n",
       "               ...         \n",
       "177    United Arab Emirates\n",
       "178            Bahamas, The\n",
       "179                  Belize\n",
       "180       Brunei Darussalam\n",
       "181              Montenegro\n",
       "Name: Entity, Length: 182, dtype: object"
      ]
     },
     "execution_count": 136,
     "metadata": {},
     "output_type": "execute_result"
    }
   ],
   "source": [
    "country_data['Entity']"
   ]
  },
  {
   "cell_type": "code",
   "execution_count": 137,
   "id": "fba7f5a4",
   "metadata": {},
   "outputs": [
    {
     "data": {
      "text/plain": [
       "0      0.266\n",
       "1      0.006\n",
       "2      0.428\n",
       "3      0.024\n",
       "4      0.354\n",
       "       ...  \n",
       "177      NaN\n",
       "178      NaN\n",
       "179      NaN\n",
       "180      NaN\n",
       "181      NaN\n",
       "Name: indiv_libs_vdem_owid, Length: 182, dtype: float64"
      ]
     },
     "execution_count": 137,
     "metadata": {},
     "output_type": "execute_result"
    }
   ],
   "source": [
    "country_data['indiv_libs_vdem_owid']"
   ]
  },
  {
   "cell_type": "code",
   "execution_count": 138,
   "id": "664260c3",
   "metadata": {},
   "outputs": [],
   "source": [
    "country_data['indiv_libs_vdem_owid_100'] = country_data['indiv_libs_vdem_owid']*100"
   ]
  },
  {
   "cell_type": "code",
   "execution_count": 140,
   "id": "b54e1ada",
   "metadata": {},
   "outputs": [
    {
     "data": {
      "text/plain": [
       "0    26.6\n",
       "1     0.6\n",
       "2    42.8\n",
       "3     2.4\n",
       "4    35.4\n",
       "5     9.4\n",
       "6    98.0\n",
       "Name: indiv_libs_vdem_owid_100, dtype: float64"
      ]
     },
     "execution_count": 140,
     "metadata": {},
     "output_type": "execute_result"
    }
   ],
   "source": [
    "country_data['indiv_libs_vdem_owid_100'].head(7)"
   ]
  },
  {
   "cell_type": "code",
   "execution_count": 141,
   "id": "4785677a",
   "metadata": {},
   "outputs": [],
   "source": [
    "country_data.to_csv('test_csv')"
   ]
  },
  {
   "cell_type": "code",
   "execution_count": 142,
   "id": "95b72b0f",
   "metadata": {},
   "outputs": [
    {
     "name": "stdout",
     "output_type": "stream",
     "text": [
      "<class 'pandas.core.frame.DataFrame'>\n",
      "RangeIndex: 182 entries, 0 to 181\n",
      "Data columns (total 44 columns):\n",
      " #   Column                                                Non-Null Count  Dtype  \n",
      "---  ------                                                --------------  -----  \n",
      " 0   Entity                                                182 non-null    object \n",
      " 1   indiv_libs_vdem_owid                                  177 non-null    float64\n",
      " 2   electdem_vdem_owid                                    177 non-null    float64\n",
      " 3   libdem_vdem_owid                                      175 non-null    float64\n",
      " 4   Countries                                             165 non-null    object \n",
      " 5   Economic.Freedom.Summary.Index                        182 non-null    float64\n",
      " 6   Government.consumption                                182 non-null    float64\n",
      " 7   Transfers.and.subsidies                               182 non-null    float64\n",
      " 8   Government.investment                                 182 non-null    float64\n",
      " 9   State.ownership.of.assets                             182 non-null    float64\n",
      " 10  Size.of.Government                                    182 non-null    float64\n",
      " 11  Judicial.independence                                 182 non-null    float64\n",
      " 12  Impartial.courts                                      182 non-null    float64\n",
      " 13  Integrity.of.the.legal.system                         182 non-null    float64\n",
      " 14  Legal.enforcement.of.contracts                        182 non-null    float64\n",
      " 15  Gender.Legal.Rights.Adjustment                        182 non-null    float64\n",
      " 16  Legal.System...Property.Rights                        182 non-null    float64\n",
      " 17  Money.growth                                          182 non-null    float64\n",
      " 18  Standard.deviation.of.inflation                       182 non-null    float64\n",
      " 19  Inflation..Most.recent.year                           182 non-null    float64\n",
      " 20  Freedom.to.own.foreign.currency.bank.accounts         182 non-null    float64\n",
      " 21  Sound.Money                                           182 non-null    float64\n",
      " 22  Revenue.from.trade.taxes....of.trade.sector.          182 non-null    float64\n",
      " 23  Tariffs                                               182 non-null    float64\n",
      " 24  Black.market.exchange.rates                           182 non-null    float64\n",
      " 25  Financial.Openness                                    182 non-null    float64\n",
      " 26  Capital.controls                                      182 non-null    float64\n",
      " 27  Controls.of.the.movement.of.capital.and.people        182 non-null    float64\n",
      " 28  Freedom.to.trade.Internationally                      182 non-null    float64\n",
      " 29  Ownership.of.banks                                    182 non-null    float64\n",
      " 30  Private.sector.credit                                 182 non-null    float64\n",
      " 31  Interest.rate.controls.negative.real.interest.rates.  182 non-null    float64\n",
      " 32  Credit.market.regulations                             182 non-null    float64\n",
      " 33  Centralized.collective.bargaining                     182 non-null    float64\n",
      " 34  Hours.Regulations                                     182 non-null    float64\n",
      " 35  Conscription                                          182 non-null    float64\n",
      " 36  Labor.market.regulations                              182 non-null    float64\n",
      " 37  Impartial.Public.Administration                       182 non-null    float64\n",
      " 38  Regulation                                            182 non-null    float64\n",
      " 39  alliance                                              182 non-null    object \n",
      " 40  regimenarrowcat                                       161 non-null    float64\n",
      " 41  Regime_type                                           182 non-null    object \n",
      " 42  id                                                    182 non-null    int64  \n",
      " 43  indiv_libs_vdem_owid_100                              177 non-null    float64\n",
      "dtypes: float64(39), int64(1), object(4)\n",
      "memory usage: 62.7+ KB\n"
     ]
    }
   ],
   "source": [
    "country_data.info()"
   ]
  },
  {
   "cell_type": "code",
   "execution_count": 144,
   "id": "ac1b7adb",
   "metadata": {},
   "outputs": [
    {
     "data": {
      "text/plain": [
       "(182, 44)"
      ]
     },
     "execution_count": 144,
     "metadata": {},
     "output_type": "execute_result"
    }
   ],
   "source": [
    "country_data.shape"
   ]
  },
  {
   "cell_type": "code",
   "execution_count": 146,
   "id": "35a6b8f2",
   "metadata": {},
   "outputs": [
    {
     "name": "stdout",
     "output_type": "stream",
     "text": [
      "Afghanistan\n",
      "Albania\n",
      "Algeria\n",
      "Angola\n",
      "Argentina\n",
      "Armenia\n",
      "Australia\n",
      "Austria\n",
      "Azerbaijan\n",
      "Bahrain\n",
      "Bangladesh\n",
      "Barbados\n",
      "Belarus\n",
      "Belgium\n",
      "Benin\n",
      "Bhutan\n",
      "Bolivia\n",
      "Bosnia and Herzegovina\n",
      "Botswana\n",
      "Brazil\n",
      "Bulgaria\n",
      "Burkina Faso\n",
      "Burundi\n",
      "Cambodia\n",
      "Cameroon\n",
      "Canada\n",
      "Cape Verde\n",
      "Central African Republic\n",
      "Chad\n",
      "Chile\n",
      "China\n",
      "Colombia\n",
      "Comoros\n",
      "Congo\n",
      "Costa Rica\n",
      "Cote d'Ivoire\n",
      "Croatia\n",
      "Cuba\n",
      "Cyprus\n",
      "Czechia\n",
      "Democratic Republic of Congo\n",
      "Denmark\n",
      "Djibouti\n",
      "Dominican Republic\n",
      "East Germany\n",
      "Ecuador\n",
      "Egypt\n",
      "El Salvador\n",
      "Equatorial Guinea\n",
      "Eritrea\n",
      "Estonia\n",
      "Eswatini\n",
      "Ethiopia\n",
      "Fiji\n",
      "Finland\n",
      "France\n",
      "Gabon\n",
      "Gambia\n",
      "Georgia\n",
      "Germany\n",
      "Ghana\n",
      "Greece\n",
      "Guatemala\n",
      "Guinea\n",
      "Guinea-Bissau\n",
      "Guyana\n",
      "Haiti\n",
      "Honduras\n",
      "Hong Kong\n",
      "Hungary\n",
      "Iceland\n",
      "India\n",
      "Indonesia\n",
      "Iran\n",
      "Iraq\n",
      "Ireland\n",
      "Israel\n",
      "Italy\n",
      "Jamaica\n",
      "Japan\n",
      "Jordan\n",
      "Kazakhstan\n",
      "Kenya\n",
      "Kuwait\n",
      "Kyrgyzstan\n",
      "Laos\n",
      "Latvia\n",
      "Lebanon\n",
      "Lesotho\n",
      "Liberia\n",
      "Libya\n",
      "Lithuania\n",
      "Luxembourg\n",
      "Madagascar\n",
      "Malawi\n",
      "Malaysia\n",
      "Maldives\n",
      "Mali\n",
      "Malta\n",
      "Mauritania\n",
      "Mauritius\n",
      "Mexico\n",
      "Moldova\n",
      "Mongolia\n",
      "Morocco\n",
      "Mozambique\n",
      "Myanmar\n",
      "Namibia\n",
      "Nepal\n",
      "Netherlands\n",
      "New Zealand\n",
      "Nicaragua\n",
      "Niger\n",
      "Nigeria\n",
      "North Korea\n",
      "North Macedonia\n",
      "Norway\n",
      "Oman\n",
      "Pakistan\n",
      "Palestine/West Bank\n",
      "Panama\n",
      "Papua New Guinea\n",
      "Paraguay\n",
      "Peru\n",
      "Philippines\n",
      "Poland\n",
      "Portugal\n",
      "Qatar\n",
      "Republic of Vietnam\n",
      "Romania\n",
      "Russia\n",
      "Rwanda\n",
      "Sao Tome and Principe\n",
      "Saudi Arabia\n",
      "Senegal\n",
      "Serbia\n",
      "Seychelles\n",
      "Sierra Leone\n",
      "Singapore\n",
      "Slovakia\n",
      "Slovenia\n",
      "Solomon Islands\n",
      "Somalia\n",
      "South Africa\n",
      "South Korea\n",
      "South Sudan\n",
      "Spain\n",
      "Sri Lanka\n",
      "Sudan\n",
      "Suriname\n",
      "Sweden\n",
      "Switzerland\n",
      "Syria\n",
      "Taiwan\n",
      "Tajikistan\n",
      "Tanzania\n",
      "Thailand\n",
      "Timor\n",
      "Togo\n",
      "Trinidad and Tobago\n",
      "Tunisia\n",
      "Turkey\n",
      "Turkmenistan\n",
      "Uganda\n",
      "Ukraine\n",
      "United Kingdom\n",
      "United States\n",
      "Uruguay\n",
      "Uzbekistan\n",
      "Vanuatu\n",
      "Venezuela\n",
      "Vietnam\n",
      "Yemen\n",
      "Yemen People's Republic\n",
      "Zambia\n",
      "Zanzibar\n",
      "Zimbabwe\n",
      "United Arab Emirates\n",
      "Bahamas, The\n",
      "Belize\n",
      "Brunei Darussalam\n",
      "Montenegro\n"
     ]
    }
   ],
   "source": [
    "for i in range(0,country_data.shape[0]):\n",
    "    print(country_data['Entity'][i])"
   ]
  },
  {
   "cell_type": "code",
   "execution_count": null,
   "id": "c9013337",
   "metadata": {},
   "outputs": [],
   "source": []
  }
 ],
 "metadata": {
  "kernelspec": {
   "display_name": "Python 3 (ipykernel)",
   "language": "python",
   "name": "python3"
  },
  "language_info": {
   "codemirror_mode": {
    "name": "ipython",
    "version": 3
   },
   "file_extension": ".py",
   "mimetype": "text/x-python",
   "name": "python",
   "nbconvert_exporter": "python",
   "pygments_lexer": "ipython3",
   "version": "3.11.4"
  }
 },
 "nbformat": 4,
 "nbformat_minor": 5
}
